{
 "cells": [
  {
   "cell_type": "markdown",
   "metadata": {},
   "source": [
    "# Web Scrapping\n",
    "This process of automatically  extracting from websites, web pages and other online resoruces\n",
    "\n",
    "## use Cases\n",
    "- Price Monitoring\n",
    "- News Aggregation\n",
    "- Job listing\n",
    "- Market Search\n",
    "- Academic Research\n",
    "\n",
    "## Tools\n",
    "- requests: To download web pages\n",
    "- BeautifulSoup: To parse HTML and XML documents to extract data\n",
    "- Selenium : To interact with web pages and handle dynamic javascript-rendered sites.\n",
    "\n",
    "## Ethics of Scraping\n",
    "- Check Term of Service\n",
    "- Check robots.txt\n",
    "- Avoid overloading of server\n",
    "- personal and sensitive data are not to be scrapped\n",
    "- "
   ]
  }
 ],
 "metadata": {
  "kernelspec": {
   "display_name": "tech-axis",
   "language": "python",
   "name": "python3"
  },
  "language_info": {
   "name": "python",
   "version": "3.11.11"
  }
 },
 "nbformat": 4,
 "nbformat_minor": 2
}
