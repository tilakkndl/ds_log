{
 "cells": [
  {
   "cell_type": "markdown",
   "metadata": {},
   "source": [
    "# Web Scrapping"
   ]
  },
  {
   "cell_type": "code",
   "execution_count": 1,
   "metadata": {},
   "outputs": [],
   "source": [
    "import requests\n",
    "from bs4 import BeautifulSoup\n"
   ]
  },
  {
   "cell_type": "code",
   "execution_count": 6,
   "metadata": {},
   "outputs": [
    {
     "data": {
      "text/plain": [
       "'This is a test page.'"
      ]
     },
     "execution_count": 6,
     "metadata": {},
     "output_type": "execute_result"
    }
   ],
   "source": [
    "html = \"\"\"\n",
    "<html>\n",
    "  <head><title>My Page</title></head>\n",
    "  <body>\n",
    "    <h1 id=\"heading\">Welcome!</h1>\n",
    "    <p>This is a test page.</p>\n",
    "      <p>This is a test checking.</p>\n",
    "  </body>\n",
    "</html>\n",
    "\"\"\"\n",
    "soup = BeautifulSoup(html, \"html.parser\")\n",
    "# Accessing elements\n",
    "soup.title.text\n",
    "soup.h1.text\n",
    "soup.p.text"
   ]
  },
  {
   "cell_type": "markdown",
   "metadata": {},
   "source": [
    "- find()\n",
    "- findall()"
   ]
  },
  {
   "cell_type": "code",
   "execution_count": 35,
   "metadata": {},
   "outputs": [
    {
     "data": {
      "text/plain": [
       "[<p class=\"price_color\">Â£51.77</p>,\n",
       " <p class=\"price_color\">Â£53.74</p>,\n",
       " <p class=\"price_color\">Â£50.10</p>,\n",
       " <p class=\"price_color\">Â£47.82</p>,\n",
       " <p class=\"price_color\">Â£54.23</p>,\n",
       " <p class=\"price_color\">Â£22.65</p>,\n",
       " <p class=\"price_color\">Â£33.34</p>,\n",
       " <p class=\"price_color\">Â£17.93</p>,\n",
       " <p class=\"price_color\">Â£22.60</p>,\n",
       " <p class=\"price_color\">Â£52.15</p>,\n",
       " <p class=\"price_color\">Â£13.99</p>,\n",
       " <p class=\"price_color\">Â£20.66</p>,\n",
       " <p class=\"price_color\">Â£17.46</p>,\n",
       " <p class=\"price_color\">Â£52.29</p>,\n",
       " <p class=\"price_color\">Â£35.02</p>,\n",
       " <p class=\"price_color\">Â£57.25</p>,\n",
       " <p class=\"price_color\">Â£23.88</p>,\n",
       " <p class=\"price_color\">Â£37.59</p>,\n",
       " <p class=\"price_color\">Â£51.33</p>,\n",
       " <p class=\"price_color\">Â£45.17</p>]"
      ]
     },
     "execution_count": 35,
     "metadata": {},
     "output_type": "execute_result"
    }
   ],
   "source": [
    "url=\"http://books.toscrape.com\"\n",
    "response = requests.get(\"http://books.toscrape.com\")\n",
    "soup = BeautifulSoup(response.text, \"html.parser\")\n",
    "all_prices= soup.find_all(class_=\"price_color\")\n",
    "all_prices"
   ]
  },
  {
   "cell_type": "markdown",
   "metadata": {},
   "source": [
    "### Try downloading image"
   ]
  },
  {
   "cell_type": "code",
   "execution_count": null,
   "metadata": {},
   "outputs": [
    {
     "name": "stdout",
     "output_type": "stream",
     "text": [
      "http://books.toscrape.com/media/cache/2c/da/2cdad67c44b002e7ead0cc35693c0e8b.jpg\n",
      "Successfully writinng file\n"
     ]
    }
   ],
   "source": [
    "\n",
    "url=\"http://books.toscrape.com\"\n",
    "response = requests.get(\"http://books.toscrape.com\")\n",
    "soup = BeautifulSoup(response.text, \"html.parser\")\n",
    "one_products=soup.select_one(\".product_pod a img\")\n",
    "# all_prods=soup.find_all(class_=\"product_pod\")\n",
    "# print(all_prods)\n",
    "# print(all_products.get(\"src\"))\n",
    "img_path=one_products.get(\"src\")\n",
    "full_url=url+\"/\"+ img_path\n",
    "# we get full url of the image\n",
    "print(full_url) \n",
    "\n",
    "download_response=requests.get(full_url)\n",
    "download_response\n",
    "if download_response.status_code==200:\n",
    "    with open(\"downloaded_img.jpeg\", \"wb\") as f:\n",
    "        f.write(download_response.content)\n",
    "        print(\"Successfully writinng file\")\n",
    "else:\n",
    "    print(\"Couldn't downlaod file\")"
   ]
  }
 ],
 "metadata": {
  "kernelspec": {
   "display_name": "tech-axis",
   "language": "python",
   "name": "python3"
  },
  "language_info": {
   "codemirror_mode": {
    "name": "ipython",
    "version": 3
   },
   "file_extension": ".py",
   "mimetype": "text/x-python",
   "name": "python",
   "nbconvert_exporter": "python",
   "pygments_lexer": "ipython3",
   "version": "3.11.11"
  }
 },
 "nbformat": 4,
 "nbformat_minor": 2
}
