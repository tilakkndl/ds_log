{
 "cells": [
  {
   "cell_type": "markdown",
   "metadata": {},
   "source": [
    "# Error Handling"
   ]
  },
  {
   "cell_type": "code",
   "execution_count": 2,
   "metadata": {},
   "outputs": [
    {
     "ename": "ZeroDivisionError",
     "evalue": "division by zero",
     "output_type": "error",
     "traceback": [
      "\u001b[31m---------------------------------------------------------------------------\u001b[39m",
      "\u001b[31mZeroDivisionError\u001b[39m                         Traceback (most recent call last)",
      "\u001b[36mCell\u001b[39m\u001b[36m \u001b[39m\u001b[32mIn[2]\u001b[39m\u001b[32m, line 1\u001b[39m\n\u001b[32m----> \u001b[39m\u001b[32m1\u001b[39m \u001b[32;43m1\u001b[39;49m\u001b[43m/\u001b[49m\u001b[32;43m0\u001b[39;49m\n",
      "\u001b[31mZeroDivisionError\u001b[39m: division by zero"
     ]
    }
   ],
   "source": [
    "1/0"
   ]
  },
  {
   "cell_type": "code",
   "execution_count": 3,
   "metadata": {},
   "outputs": [
    {
     "name": "stdout",
     "output_type": "stream",
     "text": [
      "division by zero\n",
      "Finally block executed\n"
     ]
    }
   ],
   "source": [
    "a=5\n",
    "try:\n",
    "    result=a/0\n",
    "except (ZeroDivisionError, TabError) as e:\n",
    "    print(e)\n",
    "    result=None\n",
    "finally:\n",
    "    print(\"Finally block executed\")"
   ]
  },
  {
   "cell_type": "code",
   "execution_count": 4,
   "metadata": {},
   "outputs": [
    {
     "name": "stdout",
     "output_type": "stream",
     "text": [
      "this is main starting\n",
      "this is abstraction starting\n",
      "this is reciprocal starting\n",
      "this is reciprocal ending\n",
      "this is abstraction ending\n",
      "reciprocal value is  None\n",
      "this is main ending\n"
     ]
    }
   ],
   "source": [
    "# Debugging\n",
    "def reciprocal(a: int = 1):\n",
    "    print(\"this is reciprocal starting\")\n",
    "    if a != 0:\n",
    "        rec = 1 / a\n",
    "    else:\n",
    "        rec = None\n",
    "    print(\"this is reciprocal ending\")\n",
    "    return rec\n",
    "\n",
    "def abstraction(a):\n",
    "    print(\"this is abstraction starting\")\n",
    "    rec = reciprocal(a)\n",
    "    print(\"this is abstraction ending\")\n",
    "    return rec\n",
    "\n",
    "def main(a):\n",
    "    print(\"this is main starting\")\n",
    "    rec = abstraction(a)\n",
    "    print(\"reciprocal value is \", rec)\n",
    "    print(\"this is main ending\")\n",
    "\n",
    "main(0)"
   ]
  }
 ],
 "metadata": {
  "kernelspec": {
   "display_name": "tech-axis",
   "language": "python",
   "name": "python3"
  },
  "language_info": {
   "codemirror_mode": {
    "name": "ipython",
    "version": 3
   },
   "file_extension": ".py",
   "mimetype": "text/x-python",
   "name": "python",
   "nbconvert_exporter": "python",
   "pygments_lexer": "ipython3",
   "version": "3.11.11"
  }
 },
 "nbformat": 4,
 "nbformat_minor": 2
}
