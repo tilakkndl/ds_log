{
 "cells": [
  {
   "cell_type": "markdown",
   "metadata": {},
   "source": [
    "#List Comprehension"
   ]
  },
  {
   "cell_type": "code",
   "execution_count": null,
   "metadata": {},
   "outputs": [
    {
     "data": {
      "text/plain": [
       "[4, 9, 16, 'a']"
      ]
     },
     "execution_count": 6,
     "metadata": {},
     "output_type": "execute_result"
    }
   ],
   "source": [
    "#calculate square of numbers in a new list\n",
    "l=[2,3,4, \"a\"]\n",
    "squared=[]\n",
    "for el in l:\n",
    "    if isinstance(el, int|float):\n",
    "       square = el**2\n",
    "       squared.append(square)\n",
    "    else:\n",
    "        squared.append(el)\n",
    "squared"
   ]
  },
  {
   "cell_type": "code",
   "execution_count": 4,
   "metadata": {},
   "outputs": [
    {
     "data": {
      "text/plain": [
       "([4, 9, 16], [2, 3, 4])"
      ]
     },
     "execution_count": 4,
     "metadata": {},
     "output_type": "execute_result"
    }
   ],
   "source": [
    "#list comprehension\n",
    "squared = [el**2 for el in l]\n",
    "squared, l"
   ]
  },
  {
   "cell_type": "code",
   "execution_count": null,
   "metadata": {},
   "outputs": [],
   "source": [
    "l=[2,3,4, \"a\"]\n",
    "squared=[]\n",
    "for el in l:\n",
    "    if isinstance(el, int|float):\n",
    "       square = el**2\n",
    "       squared.append(square)\n",
    "    else:\n",
    "        squared.append(el)\n",
    "squared"
   ]
  },
  {
   "cell_type": "code",
   "execution_count": null,
   "metadata": {},
   "outputs": [
    {
     "data": {
      "text/plain": [
       "([4, 9, 16], [2, 3, 4, 'a'])"
      ]
     },
     "execution_count": 7,
     "metadata": {},
     "output_type": "execute_result"
    }
   ],
   "source": [
    "#list comprehension for if only\n",
    "squared = [el**2 for el in l if isinstance(el, int|float)]\n",
    "squared, l"
   ]
  },
  {
   "cell_type": "code",
   "execution_count": 10,
   "metadata": {},
   "outputs": [
    {
     "data": {
      "text/plain": [
       "([4, 9, 16, 'a'], [2, 3, 4, 'a'])"
      ]
     },
     "execution_count": 10,
     "metadata": {},
     "output_type": "execute_result"
    }
   ],
   "source": [
    "#list comprehension for if else\n",
    "squared = [\n",
    "    el**2 if isinstance(el, int|float) else el \n",
    "    for el in l\n",
    "    ]\n",
    "squared, l"
   ]
  }
 ],
 "metadata": {
  "kernelspec": {
   "display_name": "tech-axis-venv",
   "language": "python",
   "name": "python3"
  },
  "language_info": {
   "codemirror_mode": {
    "name": "ipython",
    "version": 3
   },
   "file_extension": ".py",
   "mimetype": "text/x-python",
   "name": "python",
   "nbconvert_exporter": "python",
   "pygments_lexer": "ipython3",
   "version": "3.12.7"
  }
 },
 "nbformat": 4,
 "nbformat_minor": 2
}
