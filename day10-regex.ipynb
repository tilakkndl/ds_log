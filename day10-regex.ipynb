{
 "cells": [
  {
   "cell_type": "markdown",
   "id": "88b28627",
   "metadata": {},
   "source": [
    "# Regular Expressions in Python (`re` module)"
   ]
  },
  {
   "cell_type": "code",
   "execution_count": 1,
   "id": "0655b733",
   "metadata": {},
   "outputs": [],
   "source": [
    "import re"
   ]
  },
  {
   "cell_type": "markdown",
   "id": "d4014a70",
   "metadata": {},
   "source": [
    "Basic Functions in re Module\n",
    "<table>\n",
    "  <tr>\n",
    "    <th>Function</th>\n",
    "    <th>Description</th>\n",
    "  </tr>\n",
    "  <tr>\n",
    "    <td>re.match()</td>\n",
    "    <td>Checks for a match only at the beginning of the string</td>\n",
    "  </tr>\n",
    "  <tr>\n",
    "    <td>re.search()</td>\n",
    "    <td>Searches the string for a match anywhere</td>\n",
    "  </tr>\n",
    "  <tr>\n",
    "    <td>re.findall()</td>\n",
    "    <td>Returns all non-overlapping matches as a list</td>\n",
    "  </tr>\n",
    "  <tr>\n",
    "    <td>re.finditer()</td>\n",
    "    <td>Returns an iterator yielding match objects</td>\n",
    "  </tr>\n",
    "  <tr>\n",
    "    <td>re.sub()</td>\n",
    "    <td>Replaces matches with a specified string</td>\n",
    "  </tr>\n",
    "  <tr>\n",
    "    <td>re.split()</td>\n",
    "    <td>Splits the string at matches</td>\n",
    "  </tr>\n",
    "</table>"
   ]
  },
  {
   "cell_type": "markdown",
   "id": "fde59c39",
   "metadata": {},
   "source": [
    "Metacharacters are special symbols that have unique meanings in regex patterns.\n",
    "\n",
    "<table>\n",
    "  <tr>\n",
    "    <th>Symbol</th>\n",
    "    <th>Description</th>\n",
    "    <th>Example</th>\n",
    "  </tr>\n",
    "  <tr>\n",
    "    <td>.</td>\n",
    "    <td>Matches any character except newline</td>\n",
    "    <td>r\"a.c\" → Matches \"abc\", \"a1c\"</td>\n",
    "  </tr>\n",
    "  <tr>\n",
    "    <td>^</td>\n",
    "    <td>Matches the start of a string</td>\n",
    "    <td>r\"^Hello\" → Matches \"Hello World\" but not \"World Hello\"</td>\n",
    "  </tr>\n",
    "  <tr>\n",
    "    <td>$</td>\n",
    "    <td>Matches the end of a string</td>\n",
    "    <td>r\"World$\" → Matches \"Hello World\" but not \"World Hello\"</td>\n",
    "  </tr>\n",
    "  <tr>\n",
    "    <td>*</td>\n",
    "    <td>Matches 0 or more repetitions</td>\n",
    "    <td>r\"ab*\" → Matches \"a\", \"ab\", \"abb\", \"abbb\"</td>\n",
    "  </tr>\n",
    "  <tr>\n",
    "    <td>+</td>\n",
    "    <td>Matches 1 or more repetitions</td>\n",
    "    <td>r\"ab+\" → Matches \"ab\", \"abb\", \"abbb\" (not \"a\")</td>\n",
    "  </tr>\n",
    "  <tr>\n",
    "    <td>?</td>\n",
    "    <td>Matches 0 or 1 occurrence</td>\n",
    "    <td>r\"colou?r\" → Matches \"color\" and \"colour\"</td>\n",
    "  </tr>\n",
    "  <tr>\n",
    "    <td>{n,m}</td>\n",
    "    <td>Matches between n and m times</td>\n",
    "    <td>r\"\\d{2,4}\" → Matches 2 to 4 digit numbers</td>\n",
    "  </tr>\n",
    "  <tr>\n",
    "    <td>[]</td>\n",
    "    <td>Character set (any one of these)</td>\n",
    "    <td>[aeiou] → Matches any vowel</td>\n",
    "  </tr>\n",
    "  <tr>\n",
    "    <td>()</td>\n",
    "    <td>Grouping</td>\n",
    "    <td>(abc)+ → Matches \"abc\", \"abcabc\"</td>\n",
    "  </tr>\n",
    "  <tr>\n",
    "    <td>|</td>\n",
    "    <td>OR operator</td>\n",
    "    <td></td>\n",
    "  </tr>\n",
    "  <tr>\n",
    "    <td>\\</td>\n",
    "    <td>Escape special characters</td>\n",
    "    <td>r\"\\$100\" → Matches \"$100\"</td>\n",
    "  </tr>\n",
    "</table>"
   ]
  },
  {
   "cell_type": "markdown",
   "id": "7e42ed64",
   "metadata": {},
   "source": [
    "Character Classes\n",
    "<table>\n",
    "  <tr>\n",
    "    <th>Pattern</th>\n",
    "    <th>Description</th>\n",
    "    <th>Example</th>\n",
    "  </tr>\n",
    "  <tr>\n",
    "    <td>\\d</td>\n",
    "    <td>Any digit (0-9)</td>\n",
    "    <td>r\"\\d+\" → Matches \"123\", \"42\"</td>\n",
    "  </tr>\n",
    "  <tr>\n",
    "    <td>\\D</td>\n",
    "    <td>Any non-digit</td>\n",
    "    <td>r\"\\D+\" → Matches \"abc\"</td>\n",
    "  </tr>\n",
    "  <tr>\n",
    "    <td>\\w</td>\n",
    "    <td>Any word character (alphanumeric + underscore)</td>\n",
    "    <td>r\"\\w+\" → Matches \"hello\", \"Python3\"</td>\n",
    "  </tr>\n",
    "  <tr>\n",
    "    <td>\\W</td>\n",
    "    <td>Any non-word character</td>\n",
    "    <td>r\"\\W+\" → Matches \"@!#$\"</td>\n",
    "  </tr>\n",
    "  <tr>\n",
    "    <td>\\s</td>\n",
    "    <td>Any whitespace (space, tab, newline)</td>\n",
    "    <td>r\"\\s+\" → Matches \" \" or \"\\t\"</td>\n",
    "  </tr>\n",
    "  <tr>\n",
    "    <td>\\S</td>\n",
    "    <td>Any non-whitespace</td>\n",
    "    <td>r\"\\S+\" → Matches \"Hello\"</td>\n",
    "  </tr>\n",
    "</table>"
   ]
  },
  {
   "cell_type": "markdown",
   "id": "3a2311a6",
   "metadata": {},
   "source": [
    "## 1. Basic Functions in `re` Module"
   ]
  },
  {
   "cell_type": "code",
   "execution_count": 4,
   "id": "e12090c1",
   "metadata": {},
   "outputs": [
    {
     "name": "stdout",
     "output_type": "stream",
     "text": [
      "Hello Wo\n"
     ]
    }
   ],
   "source": [
    "\n",
    "# match() - Checks for a match only at the beginning of the string\n",
    "match = re.match(r'Hello Wo', 'Hello World')\n",
    "print(match.group() if match else \"No match\")"
   ]
  },
  {
   "cell_type": "code",
   "execution_count": 5,
   "id": "ae2835b6",
   "metadata": {},
   "outputs": [
    {
     "name": "stdout",
     "output_type": "stream",
     "text": [
      "World\n"
     ]
    }
   ],
   "source": [
    "# search() - Searches the string for a match anywhere\n",
    "search = re.search(r'World', 'Hello World')\n",
    "print(search.group() if search else \"No match\")"
   ]
  },
  {
   "cell_type": "code",
   "execution_count": 6,
   "id": "5949801f",
   "metadata": {},
   "outputs": [
    {
     "name": "stdout",
     "output_type": "stream",
     "text": [
      "['1', '2', '3', '456', '7890']\n"
     ]
    }
   ],
   "source": [
    "\n",
    "# findall() - Returns all non-overlapping matches as a list\n",
    "matches = re.findall(r'\\d+', 'Numbers: 1, 2a3, 456, 7890')\n",
    "print(matches)\n"
   ]
  },
  {
   "cell_type": "code",
   "execution_count": 7,
   "id": "37565d91",
   "metadata": {},
   "outputs": [
    {
     "name": "stdout",
     "output_type": "stream",
     "text": [
      "123\n",
      "456\n",
      "789\n"
     ]
    }
   ],
   "source": [
    "\n",
    "# finditer() - Returns an iterator yielding match objects\n",
    "for match in re.finditer(r'\\d+', 'Numbers: 123, 456, 789'):\n",
    "    print(match.group())"
   ]
  },
  {
   "cell_type": "code",
   "execution_count": 8,
   "id": "045f2244",
   "metadata": {},
   "outputs": [
    {
     "name": "stdout",
     "output_type": "stream",
     "text": [
      "dogs are great!, dogs\n"
     ]
    }
   ],
   "source": [
    "# sub() - Replaces matches with a specified string\n",
    "text = \"Cats are great!, cat\"\n",
    "new_text = re.sub(r'cats?', 'dogs', text, flags=re.IGNORECASE)\n",
    "print(new_text)"
   ]
  },
  {
   "cell_type": "code",
   "execution_count": 9,
   "id": "07edbe81",
   "metadata": {},
   "outputs": [
    {
     "name": "stdout",
     "output_type": "stream",
     "text": [
      "['apple', 'banana', 'grape', 'orange']\n"
     ]
    }
   ],
   "source": [
    "# split() - Splits the string at matches\n",
    "split_text = re.split(r'[;|,]', \"apple;banana,grape|orange\")\n",
    "print(split_text)"
   ]
  },
  {
   "cell_type": "markdown",
   "id": "b37f5c92",
   "metadata": {},
   "source": [
    "## 2. Regex Metacharacters"
   ]
  },
  {
   "cell_type": "code",
   "execution_count": 11,
   "id": "6ff6d5c1",
   "metadata": {},
   "outputs": [
    {
     "name": "stdout",
     "output_type": "stream",
     "text": [
      "['rain']\n"
     ]
    }
   ],
   "source": [
    "\n",
    "# Using metacharacters\n",
    "text = \"The rain in Spain falls mainly in the plain.\"\n",
    "pattern = r\"\\brain\\b\"\n",
    "print(re.findall(pattern, text))  # Matches 'rain' exactly\n"
   ]
  },
  {
   "cell_type": "code",
   "execution_count": 12,
   "id": "4bcb4452",
   "metadata": {},
   "outputs": [
    {
     "name": "stdout",
     "output_type": "stream",
     "text": [
      "['o', 'i', 'e', 'a']\n"
     ]
    }
   ],
   "source": [
    "# Using character sets []\n",
    "print(re.findall(r\"[aeiou]\", \"Python is great\"))"
   ]
  },
  {
   "cell_type": "code",
   "execution_count": 13,
   "id": "4304522c",
   "metadata": {},
   "outputs": [
    {
     "name": "stdout",
     "output_type": "stream",
     "text": [
      "['ab']\n",
      "['aab']\n",
      "['color', 'colour']\n"
     ]
    }
   ],
   "source": [
    "# Using quantifiers *, +, ?\n",
    "print(re.findall(r\"a.*b\", \"ab\"))  # Matches everything from 'a' to 'b'\n",
    "print(re.findall(r\"a+b\", \"aab\"))  # Matches 'aaab'\n",
    "print(re.findall(r\"colou?r\", \"color colour\"))  # Matches both"
   ]
  },
  {
   "cell_type": "markdown",
   "id": "143d9311",
   "metadata": {},
   "source": [
    "## 3. Practical Examples"
   ]
  },
  {
   "cell_type": "code",
   "execution_count": 14,
   "id": "df8c64a9",
   "metadata": {},
   "outputs": [
    {
     "name": "stdout",
     "output_type": "stream",
     "text": [
      "['support@example.com', 'sales@example.co.uk']\n"
     ]
    }
   ],
   "source": [
    "\n",
    "# Extracting Email Addresses\n",
    "text = \"Contact us at support@example.com or sales@example.co.uk\"\n",
    "emails = re.findall(r'[a-zA-Z0-9._%+-]+@[a-zA-Z0-9.-]+\\.[a-zA-Z]{2,}', text)\n",
    "print(emails)\n"
   ]
  },
  {
   "cell_type": "code",
   "execution_count": 15,
   "id": "9f416b81",
   "metadata": {},
   "outputs": [
    {
     "name": "stdout",
     "output_type": "stream",
     "text": [
      "['987-654-3210']\n"
     ]
    }
   ],
   "source": [
    "# Validating a Phone Number\n",
    "phone_number = \"987-654-3210 123-123-134\"\n",
    "match = re.findall(r'\\d{3}-\\d{3}-\\d{4}', phone_number)\n",
    "print(match)"
   ]
  },
  {
   "cell_type": "code",
   "execution_count": 16,
   "id": "4288582e",
   "metadata": {},
   "outputs": [
    {
     "name": "stdout",
     "output_type": "stream",
     "text": [
      "['Python', 'Powerful', 'Popular']\n"
     ]
    }
   ],
   "source": [
    "# Finding all Words Starting with \"P\"\n",
    "text = \"Python is Powerful and Popular!\"\n",
    "words = re.findall(r'\\bP\\w+', text)\n",
    "print(words)"
   ]
  },
  {
   "cell_type": "code",
   "execution_count": 17,
   "id": "4d57efa1",
   "metadata": {},
   "outputs": [
    {
     "name": "stdout",
     "output_type": "stream",
     "text": [
      "['2025', '1234']\n"
     ]
    }
   ],
   "source": [
    "# Using re.compile() for Efficiency\n",
    "pattern = re.compile(r'\\d{4}')\n",
    "matches = pattern.findall(\"2025 is a year, and 1234 is a code.\")\n",
    "print(matches)"
   ]
  }
 ],
 "metadata": {
  "kernelspec": {
   "display_name": "tech-axis",
   "language": "python",
   "name": "python3"
  },
  "language_info": {
   "codemirror_mode": {
    "name": "ipython",
    "version": 3
   },
   "file_extension": ".py",
   "mimetype": "text/x-python",
   "name": "python",
   "nbconvert_exporter": "python",
   "pygments_lexer": "ipython3",
   "version": "3.11.11"
  }
 },
 "nbformat": 4,
 "nbformat_minor": 5
}
